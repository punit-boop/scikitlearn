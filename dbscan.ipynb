{
 "cells": [
  {
   "cell_type": "code",
   "execution_count": 1,
   "id": "0b4578f3-68c9-44f1-b754-06bcb26d0da7",
   "metadata": {},
   "outputs": [],
   "source": [
    "# density based clustering of application with noise"
   ]
  },
  {
   "cell_type": "code",
   "execution_count": 2,
   "id": "ba48c1a7-9837-451f-bf32-f7f26c76ded2",
   "metadata": {},
   "outputs": [],
   "source": [
    "import pandas as pd\n",
    "import numpy as np\n",
    "from sklearn.preprocessing import StandardScaler\n",
    "from sklearn.cluster import DBSCAN\n",
    "import matplotlib.pyplot as plt"
   ]
  },
  {
   "cell_type": "code",
   "execution_count": 3,
   "id": "3dadd316-754f-4abd-a95b-78ace7e7d15d",
   "metadata": {},
   "outputs": [
    {
     "data": {
      "text/plain": [
       "array([[0.01037415, 0.50187459],\n",
       "       [0.49577329, 0.13382953],\n",
       "       [0.14211109, 0.21855868],\n",
       "       [0.41850818, 0.24810117],\n",
       "       [0.08405965, 0.34549864],\n",
       "       [0.16677635, 0.87855909],\n",
       "       [0.95096403, 0.03874838],\n",
       "       [0.69910739, 0.57275982],\n",
       "       [0.89800712, 0.66689897],\n",
       "       [0.54783778, 0.70242742],\n",
       "       [0.38647717, 0.69443868],\n",
       "       [0.82487046, 0.46566848],\n",
       "       [0.94052441, 0.80373977],\n",
       "       [0.98335925, 0.16963626],\n",
       "       [0.52108471, 0.94551742],\n",
       "       [0.64954046, 0.86083192],\n",
       "       [0.97084601, 0.18554169],\n",
       "       [0.24311568, 0.87340084],\n",
       "       [0.90627728, 0.75827799],\n",
       "       [0.34690195, 0.46353471],\n",
       "       [0.61053774, 0.49628172],\n",
       "       [0.47797401, 0.43555546],\n",
       "       [0.8704083 , 0.18735865],\n",
       "       [0.68767409, 0.70352917],\n",
       "       [0.92520008, 0.03945482],\n",
       "       [0.64711671, 0.63805398],\n",
       "       [0.46169766, 0.05305942],\n",
       "       [0.03857092, 0.16953141],\n",
       "       [0.79454789, 0.16260605],\n",
       "       [0.1387387 , 0.35291695],\n",
       "       [0.48449846, 0.69773639],\n",
       "       [0.80115643, 0.26677438],\n",
       "       [0.90947621, 0.02286695],\n",
       "       [0.37512276, 0.19963333],\n",
       "       [0.34280523, 0.4441123 ],\n",
       "       [0.49813961, 0.41434632],\n",
       "       [0.21425596, 0.21663971],\n",
       "       [0.23230713, 0.72908562],\n",
       "       [0.41591867, 0.58389818],\n",
       "       [0.49433661, 0.43004681],\n",
       "       [0.73476582, 0.55621649],\n",
       "       [0.30263064, 0.97079819],\n",
       "       [0.22484261, 0.13876916],\n",
       "       [0.61493248, 0.49192894],\n",
       "       [0.18315273, 0.10931052],\n",
       "       [0.53957552, 0.28929928],\n",
       "       [0.10305405, 0.49060155],\n",
       "       [0.63209168, 0.03796922],\n",
       "       [0.50010792, 0.08354343],\n",
       "       [0.79131823, 0.75803602],\n",
       "       [0.26227322, 0.10085859],\n",
       "       [0.91719271, 0.51746024],\n",
       "       [0.13353968, 0.11254311],\n",
       "       [0.84164115, 0.54607474],\n",
       "       [0.26101658, 0.57582552],\n",
       "       [0.31385261, 0.79162319],\n",
       "       [0.49309072, 0.96515818],\n",
       "       [0.52031194, 0.9030216 ],\n",
       "       [0.24980456, 0.5214873 ],\n",
       "       [0.50574568, 0.81307148],\n",
       "       [0.07319422, 0.836207  ],\n",
       "       [0.80423564, 0.40632127],\n",
       "       [0.03645125, 0.76725411],\n",
       "       [0.67892757, 0.91892889],\n",
       "       [0.56018562, 0.96771896],\n",
       "       [0.30838435, 0.33888997],\n",
       "       [0.73088181, 0.70136991],\n",
       "       [0.72534892, 0.89394274],\n",
       "       [0.71664909, 0.68215277],\n",
       "       [0.84311684, 0.645119  ],\n",
       "       [0.30269889, 0.8287812 ],\n",
       "       [0.24471955, 0.70378069],\n",
       "       [0.53588824, 0.38080952],\n",
       "       [0.17861794, 0.8858316 ],\n",
       "       [0.08023349, 0.80358865],\n",
       "       [0.68347035, 0.46201044],\n",
       "       [0.66404931, 0.28266626],\n",
       "       [0.86157477, 0.17847956],\n",
       "       [0.57971078, 0.46363438],\n",
       "       [0.67322183, 0.47612445],\n",
       "       [0.95251115, 0.85325763],\n",
       "       [0.89850711, 0.0255691 ],\n",
       "       [0.1564229 , 0.47689815],\n",
       "       [0.73472184, 0.35630948],\n",
       "       [0.56445363, 0.0454695 ],\n",
       "       [0.64044131, 0.68120638],\n",
       "       [0.39563748, 0.13667301],\n",
       "       [0.41645775, 0.73846283],\n",
       "       [0.58430764, 0.88343323],\n",
       "       [0.57874961, 0.17797046],\n",
       "       [0.59175169, 0.05387774],\n",
       "       [0.74341313, 0.20103766],\n",
       "       [0.90467534, 0.47356788],\n",
       "       [0.44165318, 0.1360797 ],\n",
       "       [0.8076956 , 0.91702876],\n",
       "       [0.69458849, 0.66754446],\n",
       "       [0.70661776, 0.7448136 ],\n",
       "       [0.71459516, 0.14296252],\n",
       "       [0.66635795, 0.91035739],\n",
       "       [0.03242496, 0.18481437]])"
      ]
     },
     "execution_count": 3,
     "metadata": {},
     "output_type": "execute_result"
    }
   ],
   "source": [
    "np.random.seed(9)\n",
    "data =np.random.rand(100,2)\n",
    "data"
   ]
  },
  {
   "cell_type": "code",
   "execution_count": 5,
   "id": "9ecf8e57-cb27-4c47-a693-53bc51a1fa6f",
   "metadata": {},
   "outputs": [
    {
     "data": {
      "text/plain": [
       "array([[-1.94550288,  0.0417587 ],\n",
       "       [-0.13648373, -1.22675127],\n",
       "       [-1.45453655, -0.93472244],\n",
       "       [-0.4244407 , -0.83290082],\n",
       "       [-1.67088666, -0.49720914],\n",
       "       [-1.36261235,  1.34004547],\n",
       "       [ 1.55995266, -1.55445949],\n",
       "       [ 0.62131588,  0.28607284],\n",
       "       [ 1.36258916,  0.61053436],\n",
       "       [ 0.05755382,  0.73298728],\n",
       "       [-0.5438161 ,  0.70545314],\n",
       "       [ 1.09001841, -0.08302988],\n",
       "       [ 1.52104555,  1.08217203],\n",
       "       [ 1.68068539, -1.10333923],\n",
       "       [-0.04215138,  1.57082512],\n",
       "       [ 0.43658642,  1.27894675],\n",
       "       [ 1.6340502 , -1.04851932],\n",
       "       [-1.07810565,  1.32226699],\n",
       "       [ 1.39341096,  0.92548272],\n",
       "       [-0.69130775, -0.09038413],\n",
       "       [ 0.29122837,  0.02248221],\n",
       "       [-0.20281932, -0.18681786],\n",
       "       [ 1.25973196, -1.04225696],\n",
       "       [ 0.57870547,  0.73678459],\n",
       "       [ 1.46393377, -1.55202465],\n",
       "       [ 0.42755342,  0.51111676],\n",
       "       [-0.26347915, -1.5051348 ],\n",
       "       [-1.8404172 , -1.10370058],\n",
       "       [ 0.97701013, -1.12756967],\n",
       "       [-1.46710499, -0.47164107],\n",
       "       [-0.17850358,  0.71681907],\n",
       "       [ 1.00163931, -0.76854144],\n",
       "       [ 1.40533297, -1.60919666],\n",
       "       [-0.58613249, -0.99995085],\n",
       "       [-0.70657571, -0.15732575],\n",
       "       [-0.12766477, -0.25991762],\n",
       "       [-1.18566202, -0.94133637],\n",
       "       [-1.11838769,  0.82486785],\n",
       "       [-0.43409148,  0.3244625 ],\n",
       "       [-0.14183808, -0.20580406],\n",
       "       [ 0.75421017,  0.22905434],\n",
       "       [-0.85630115,  1.65795825],\n",
       "       [-1.14620696, -1.20972627],\n",
       "       [ 0.30760697,  0.00747986],\n",
       "       [-1.30157969, -1.31125889],\n",
       "       [ 0.02676146, -0.69090675],\n",
       "       [-1.60009701,  0.00290485],\n",
       "       [ 0.3715571 , -1.55714495],\n",
       "       [-0.12032914, -1.40006814],\n",
       "       [ 0.96497364,  0.92464877],\n",
       "       [-1.00670798, -1.34038943],\n",
       "       [ 1.43409134,  0.09547645],\n",
       "       [-1.48648107, -1.30011737],\n",
       "       [ 1.15252056,  0.19409962],\n",
       "       [-1.0113913 ,  0.29663914],\n",
       "       [-0.81447835,  1.04041081],\n",
       "       [-0.14648133,  1.6385193 ],\n",
       "       [-0.04503138,  1.42435835],\n",
       "       [-1.05317705,  0.10935618],\n",
       "       [-0.09931793,  1.11433485],\n",
       "       [-1.7113807 ,  1.1940741 ],\n",
       "       [ 1.0131151 , -0.2875769 ],\n",
       "       [-1.84831695,  0.95641996],\n",
       "       [ 0.54610832,  1.47918467],\n",
       "       [ 0.1035726 ,  1.64734531],\n",
       "       [-0.83485782, -0.5199867 ],\n",
       "       [ 0.73973499,  0.72934242],\n",
       "       [ 0.71911463,  1.39306703],\n",
       "       [ 0.68669149,  0.66310834],\n",
       "       [ 1.15802028,  0.53546715],\n",
       "       [-0.8560468 ,  1.16848022],\n",
       "       [-1.07212822,  0.73765148],\n",
       "       [ 0.01301944, -0.37550611],\n",
       "       [-1.31848029,  1.36511105],\n",
       "       [-1.68514625,  1.08165116],\n",
       "       [ 0.56303868, -0.09563772],\n",
       "       [ 0.49065899, -0.71376822],\n",
       "       [ 1.22681058, -1.07285978],\n",
       "       [ 0.17634032, -0.09004061],\n",
       "       [ 0.52484376, -0.04699213],\n",
       "       [ 1.56571858,  1.25284107],\n",
       "       [ 1.36445255, -1.59988338],\n",
       "       [-1.40119828, -0.0443255 ],\n",
       "       [ 0.75404628, -0.45994834],\n",
       "       [ 0.11947892, -1.53129436],\n",
       "       [ 0.40267504,  0.6598465 ],\n",
       "       [-0.50967683, -1.21695088],\n",
       "       [-0.43208238,  0.8571875 ],\n",
       "       [ 0.19347219,  1.35684476],\n",
       "       [ 0.17275816, -1.07461443],\n",
       "       [ 0.22121522, -1.50231437],\n",
       "       [ 0.78643759, -0.99511065],\n",
       "       [ 1.38744076, -0.05580366],\n",
       "       [-0.3381823 , -1.21899579],\n",
       "       [ 1.02600993,  1.47263565],\n",
       "       [ 0.60447453,  0.6127591 ],\n",
       "       [ 0.64930606,  0.87907616],\n",
       "       [ 0.67903676, -1.19527334],\n",
       "       [ 0.49926298,  1.44964202],\n",
       "       [-1.86332241, -1.05102609]])"
      ]
     },
     "execution_count": 5,
     "metadata": {},
     "output_type": "execute_result"
    }
   ],
   "source": [
    "sc= StandardScaler()\n",
    "sdata =sc.fit_transform(data)\n",
    "sdata"
   ]
  },
  {
   "cell_type": "code",
   "execution_count": 7,
   "id": "f576a53d-b058-4de7-b983-a7374dfd9dec",
   "metadata": {},
   "outputs": [],
   "source": [
    "model = DBSCAN(eps=0.3,min_samples=5)\n",
    "cltr= model.fit_predict(sdata)"
   ]
  },
  {
   "cell_type": "code",
   "execution_count": 10,
   "id": "844db6d9-f7c5-4cfb-bcf3-a1bb1725693c",
   "metadata": {},
   "outputs": [
    {
     "data": {
      "text/plain": [
       "<matplotlib.collections.PathCollection at 0x2596e822710>"
      ]
     },
     "execution_count": 10,
     "metadata": {},
     "output_type": "execute_result"
    },
    {
     "data": {
      "image/png": "[encoded data removed]",
      "text/plain": [
       "<Figure size 640x480 with 1 Axes>"
      ]
     },
     "metadata": {},
     "output_type": "display_data"
    }
   ],
   "source": [
    "plt.scatter(data[:,0],data[:,1],c=cltr,cmap='rainbow',marker='o',s=50)"
   ]
  },
  {
   "cell_type": "code",
   "execution_count": null,
   "id": "ff27f682-f1b6-4b2e-b883-3580fc0535ea",
   "metadata": {},
   "outputs": [],
   "source": []
  }
 ],
 "metadata": {
  "kernelspec": {
   "display_name": "Python 3 (ipykernel)",
   "language": "python",
   "name": "python3"
  },
  "language_info": {
   "codemirror_mode": {
    "name": "ipython",
    "version": 3
   },
   "file_extension": ".py",
   "mimetype": "text/x-python",
   "name": "python",
   "nbconvert_exporter": "python",
   "pygments_lexer": "ipython3",
   "version": "3.13.5"
  }
 },
 "nbformat": 4,
 "nbformat_minor": 5
}
