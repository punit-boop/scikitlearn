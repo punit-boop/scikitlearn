{
 "cells": [
  {
   "cell_type": "code",
   "execution_count": 3,
   "id": "f5c47c33-c498-4fd5-9bbe-2ed2e63d30cb",
   "metadata": {},
   "outputs": [],
   "source": [
    "import pandas as pd\n",
    "import numpy as np\n",
    "import matplotlib.pyplot as plt\n",
    "from sklearn.cluster import AgglomerativeClustering\n",
    "from sklearn.preprocessing import StandardScaler"
   ]
  },
  {
   "cell_type": "code",
   "execution_count": 6,
   "id": "8280f691-b84a-47d0-aba7-a0aa8582f390",
   "metadata": {},
   "outputs": [
    {
     "data": {
      "text/html": [
       "<div>\n",
       "<style scoped>\n",
       "    .dataframe tbody tr th:only-of-type {\n",
       "        vertical-align: middle;\n",
       "    }\n",
       "\n",
       "    .dataframe tbody tr th {\n",
       "        vertical-align: top;\n",
       "    }\n",
       "\n",
       "    .dataframe thead th {\n",
       "        text-align: right;\n",
       "    }\n",
       "</style>\n",
       "<table border=\"1\" class=\"dataframe\">\n",
       "  <thead>\n",
       "    <tr style=\"text-align: right;\">\n",
       "      <th></th>\n",
       "      <th>age</th>\n",
       "      <th>income</th>\n",
       "      <th>ss</th>\n",
       "    </tr>\n",
       "  </thead>\n",
       "  <tbody>\n",
       "    <tr>\n",
       "      <th>0</th>\n",
       "      <td>46</td>\n",
       "      <td>85318</td>\n",
       "      <td>79</td>\n",
       "    </tr>\n",
       "    <tr>\n",
       "      <th>1</th>\n",
       "      <td>40</td>\n",
       "      <td>147545</td>\n",
       "      <td>81</td>\n",
       "    </tr>\n",
       "    <tr>\n",
       "      <th>2</th>\n",
       "      <td>19</td>\n",
       "      <td>147862</td>\n",
       "      <td>78</td>\n",
       "    </tr>\n",
       "    <tr>\n",
       "      <th>3</th>\n",
       "      <td>40</td>\n",
       "      <td>135676</td>\n",
       "      <td>10</td>\n",
       "    </tr>\n",
       "    <tr>\n",
       "      <th>4</th>\n",
       "      <td>58</td>\n",
       "      <td>83205</td>\n",
       "      <td>15</td>\n",
       "    </tr>\n",
       "    <tr>\n",
       "      <th>...</th>\n",
       "      <td>...</td>\n",
       "      <td>...</td>\n",
       "      <td>...</td>\n",
       "    </tr>\n",
       "    <tr>\n",
       "      <th>95</th>\n",
       "      <td>41</td>\n",
       "      <td>112388</td>\n",
       "      <td>15</td>\n",
       "    </tr>\n",
       "    <tr>\n",
       "      <th>96</th>\n",
       "      <td>48</td>\n",
       "      <td>78685</td>\n",
       "      <td>97</td>\n",
       "    </tr>\n",
       "    <tr>\n",
       "      <th>97</th>\n",
       "      <td>30</td>\n",
       "      <td>35342</td>\n",
       "      <td>59</td>\n",
       "    </tr>\n",
       "    <tr>\n",
       "      <th>98</th>\n",
       "      <td>33</td>\n",
       "      <td>47416</td>\n",
       "      <td>20</td>\n",
       "    </tr>\n",
       "    <tr>\n",
       "      <th>99</th>\n",
       "      <td>29</td>\n",
       "      <td>40825</td>\n",
       "      <td>89</td>\n",
       "    </tr>\n",
       "  </tbody>\n",
       "</table>\n",
       "<p>100 rows × 3 columns</p>\n",
       "</div>"
      ],
      "text/plain": [
       "    age  income  ss\n",
       "0    46   85318  79\n",
       "1    40  147545  81\n",
       "2    19  147862  78\n",
       "3    40  135676  10\n",
       "4    58   83205  15\n",
       "..  ...     ...  ..\n",
       "95   41  112388  15\n",
       "96   48   78685  97\n",
       "97   30   35342  59\n",
       "98   33   47416  20\n",
       "99   29   40825  89\n",
       "\n",
       "[100 rows x 3 columns]"
      ]
     },
     "execution_count": 6,
     "metadata": {},
     "output_type": "execute_result"
    }
   ],
   "source": [
    "np.random.seed(9)\n",
    "data = pd.DataFrame({'age':np.random.randint(18,65,100),\n",
    "                    'income': np.random.randint(30000,180000,100),\n",
    "                    'ss': np.random.randint(1,100,100)})\n",
    "data"
   ]
  },
  {
   "cell_type": "code",
   "execution_count": 8,
   "id": "e7be75ff-3832-42db-ae99-c99ea5c2572d",
   "metadata": {},
   "outputs": [
    {
     "data": {
      "text/plain": [
       "array([[ 0.34720109, -0.38255708,  1.08618646],\n",
       "       [-0.10080032,  1.07694653,  1.15493244],\n",
       "       [-1.66880522,  1.08438161,  1.05181347],\n",
       "       [-0.10080032,  0.79856498, -1.2855498 ],\n",
       "       [ 1.24320389, -0.43211646, -1.11368486],\n",
       "       [ 0.27253419, -1.36666129,  0.74245657],\n",
       "       [ 0.72053559,  0.16745111,  1.2924244 ],\n",
       "       [ 0.42186799,  1.7488947 ,  0.9830675 ],\n",
       "       [ 0.34720109, -0.42540847,  1.15493244],\n",
       "       [-1.74347212, -1.35045423,  1.53303533],\n",
       "       [ 1.69120529, -0.54354882,  0.43309967],\n",
       "       [ 0.04853349,  0.49262439, -0.70120898],\n",
       "       [-0.99680312,  1.66680393, -0.21998713],\n",
       "       [ 0.42186799,  0.81273151, -0.83870094],\n",
       "       [ 1.39253769,  0.08416415, -1.42304176],\n",
       "       [-0.84746932, -1.2256997 , -0.70120898],\n",
       "       [-0.39946792,  1.009937  , -0.80432795],\n",
       "       [-0.10080032,  1.31421232, -1.49178774],\n",
       "       [-1.66880522, -1.58316984,  1.63615429],\n",
       "       [ 0.86986939, -0.84880923, -0.59809002],\n",
       "       [-0.92213622, -0.51080633, -1.38866877],\n",
       "       [ 1.01920319, -1.14060675, -0.0137492 ],\n",
       "       [-0.32480102,  1.1353248 , -1.42304176],\n",
       "       [ 1.09387009, -0.58518057,  0.26123472],\n",
       "       [-1.07147002,  0.95974436, -0.83870094],\n",
       "       [-0.54880172, -0.20800864,  0.84557554],\n",
       "       [ 1.24320389,  0.59394786, -1.18243083],\n",
       "       [-0.77280242, -1.16098872,  0.08936977],\n",
       "       [ 0.72053559, -0.35262913,  0.3299807 ],\n",
       "       [-0.77280242,  1.19203779,  0.81120255],\n",
       "       [ 0.42186799,  0.07426635,  0.29560771],\n",
       "       [ 1.54187149,  1.18124872,  0.77682956],\n",
       "       [-0.10080032, -1.25893474, -1.49178774],\n",
       "       [ 1.24320389, -0.33602334,  0.57059162],\n",
       "       [-1.44480452,  1.44508847,  0.26123472],\n",
       "       [ 0.86986939,  1.07797853,  1.70490027],\n",
       "       [-1.74347212, -1.3846509 ,  1.56740832],\n",
       "       [-0.99680312,  1.36724296, -0.39185208],\n",
       "       [-0.54880172, -0.84125688,  0.12374276],\n",
       "       [-1.44480452,  0.31960049, -1.04493888],\n",
       "       [-1.37013762, -0.73618069, -1.18243083],\n",
       "       [ 0.04853349, -0.68948276,  1.49866234],\n",
       "       [-0.32480102, -0.02745585,  0.81120255],\n",
       "       [ 0.49653489, -0.74774376,  1.08618646],\n",
       "       [ 1.24320389, -1.02997184, -0.80432795],\n",
       "       [-1.44480452, -0.65399609, -0.76995496],\n",
       "       [-1.14613692,  1.05032566, -0.73558197],\n",
       "       [-1.74347212, -1.38500271,  0.15811575],\n",
       "       [-1.66880522, -0.83607343, -1.52616073],\n",
       "       [ 0.79520249,  0.55224575, -0.632463  ],\n",
       "       [ 1.61653839,  1.71664475,  0.08936977],\n",
       "       [ 0.27253419, -0.36320711,  0.57059162],\n",
       "       [ 1.54187149,  0.87411195, -1.01056589],\n",
       "       [-0.77280242, -1.16445998,  0.81120255],\n",
       "       [-1.22080382, -0.64904719, -0.21998713],\n",
       "       [-0.62346862,  0.38006621,  1.32679739],\n",
       "       [ 1.69120529, -0.34411515,  1.25805141],\n",
       "       [ 1.09387009,  0.45017174,  1.53303533],\n",
       "       [-1.59413832,  1.36904896, -0.39185208],\n",
       "       [ 0.42186799,  1.69694297, -1.35429578],\n",
       "       [ 0.79520249, -1.18036214,  0.15811575],\n",
       "       [ 1.69120529, -1.11011589, -1.11368486],\n",
       "       [-0.32480102, -1.01887786, -0.59809002],\n",
       "       [ 1.31787079,  1.33109957,  1.18930543],\n",
       "       [ 1.39253769,  1.81951622, -0.11686816],\n",
       "       [-0.32480102,  0.61447056, -1.04493888],\n",
       "       [-0.47413482, -0.17608706, -1.56053372],\n",
       "       [ 0.64586869, -0.96218832, -1.07931187],\n",
       "       [ 0.79520249,  1.13952315,  1.12055945],\n",
       "       [-0.54880172,  0.52062907,  0.05499678],\n",
       "       [ 0.94453629, -1.36417511,  0.91432152],\n",
       "       [ 1.39253769,  0.57009463,  0.50184564],\n",
       "       [-0.69813552,  0.72372165, -0.28873311],\n",
       "       [-0.92213622, -0.85971557,  1.08618646],\n",
       "       [ 0.42186799, -0.71739363,  0.81120255],\n",
       "       [-1.22080382,  0.16904601, -0.3231061 ],\n",
       "       [ 0.27253419,  0.89379028, -0.70120898],\n",
       "       [ 0.64586869, -0.69736348, -1.31992279],\n",
       "       [-0.39946792,  1.30229743, -0.56371703],\n",
       "       [ 0.94453629,  1.13752952,  1.63615429],\n",
       "       [ 0.27253419, -1.62189324, -1.21680382],\n",
       "       [-1.74347212, -0.55398607, -1.35429578],\n",
       "       [-1.66880522,  1.67346501, -0.39185208],\n",
       "       [ 1.09387009,  1.24807061,  1.2924244 ],\n",
       "       [ 1.54187149,  1.17944272,  1.22367842],\n",
       "       [-0.02613342, -0.26544873, -0.11686816],\n",
       "       [ 0.72053559,  1.67426246, -1.35429578],\n",
       "       [ 1.54187149, -0.28958342, -1.18243083],\n",
       "       [-0.10080032, -0.37235437, -0.49497105],\n",
       "       [-0.39946792, -0.73695468, -1.31992279],\n",
       "       [-0.17546722, -0.42550229,  1.32679739],\n",
       "       [ 0.64586869, -0.86595447, -0.04812219],\n",
       "       [-0.54880172, -1.42745537,  1.08618646],\n",
       "       [-0.17546722,  0.45310355, -0.15124115],\n",
       "       [-0.32480102, -0.39501143,  0.19248874],\n",
       "       [-0.02613342,  0.25235642, -1.11368486],\n",
       "       [ 0.49653489, -0.53813083,  1.70490027],\n",
       "       [-0.84746932, -1.55471953,  0.39872668],\n",
       "       [-0.62346862, -1.27152981, -0.94181991],\n",
       "       [-0.92213622, -1.42611847,  1.42991636]])"
      ]
     },
     "execution_count": 8,
     "metadata": {},
     "output_type": "execute_result"
    }
   ],
   "source": [
    "sc = StandardScaler()\n",
    "sdata=sc.fit_transform(data)\n",
    "sdata"
   ]
  },
  {
   "cell_type": "code",
   "execution_count": 13,
   "id": "cf552208-c38a-4d2f-be96-af9065237f1b",
   "metadata": {},
   "outputs": [
    {
     "data": {
      "text/plain": [
       "0     2\n",
       "1     0\n",
       "2     0\n",
       "3     0\n",
       "4     0\n",
       "     ..\n",
       "95    0\n",
       "96    2\n",
       "97    1\n",
       "98    1\n",
       "99    1\n",
       "Name: sav, Length: 100, dtype: int64"
      ]
     },
     "execution_count": 13,
     "metadata": {},
     "output_type": "execute_result"
    }
   ],
   "source": [
    "model = AgglomerativeClustering(n_clusters = 3,linkage='ward')\n",
    "data['sav']= model.fit_predict(sdata)\n",
    "data['sav']"
   ]
  },
  {
   "cell_type": "code",
   "execution_count": 20,
   "id": "6d0607a3-82c1-4746-a9e9-a6ca4a62b80b",
   "metadata": {},
   "outputs": [
    {
     "data": {
      "text/plain": [
       "<matplotlib.collections.PathCollection at 0x206f1459f90>"
      ]
     },
     "execution_count": 20,
     "metadata": {},
     "output_type": "execute_result"
    },
    {
     "data": {
      "image/png": "[encoded data removed]",
      "text/plain": [
       "<Figure size 640x480 with 1 Axes>"
      ]
     },
     "metadata": {},
     "output_type": "display_data"
    }
   ],
   "source": [
    "plt.scatter(data['income'],data['ss'],c=data['sav'],cmap='viridis')"
   ]
  },
  {
   "cell_type": "code",
   "execution_count": null,
   "id": "1d06271d-b2d7-47e6-aaf7-aeedf8b9d86d",
   "metadata": {},
   "outputs": [],
   "source": []
  }
 ],
 "metadata": {
  "kernelspec": {
   "display_name": "Python 3 (ipykernel)",
   "language": "python",
   "name": "python3"
  },
  "language_info": {
   "codemirror_mode": {
    "name": "ipython",
    "version": 3
   },
   "file_extension": ".py",
   "mimetype": "text/x-python",
   "name": "python",
   "nbconvert_exporter": "python",
   "pygments_lexer": "ipython3",
   "version": "3.13.5"
  }
 },
 "nbformat": 4,
 "nbformat_minor": 5
}
